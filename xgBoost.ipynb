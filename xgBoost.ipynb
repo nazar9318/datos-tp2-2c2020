{
 "cells": [
  {
   "cell_type": "code",
   "execution_count": 1,
   "metadata": {},
   "outputs": [],
   "source": [
    "import pandas as pd\n",
    "import numpy as np\n",
    "import seaborn as sns\n",
    "import matplotlib.pyplot as mplt\n",
    "import matplotlib as plt\n",
    "import datetime as dati"
   ]
  },
  {
   "cell_type": "code",
   "execution_count": 2,
   "metadata": {},
   "outputs": [],
   "source": [
    "import xgboost as xgb\n",
    "from sklearn.metrics import mean_squared_error\n",
    "from sklearn import tree\n",
    "from sklearn.model_selection import train_test_split\n",
    "from sklearn.metrics import log_loss\n",
    "from sklearn.model_selection import GridSearchCV"
   ]
  },
  {
   "cell_type": "code",
   "execution_count": 21,
   "metadata": {},
   "outputs": [],
   "source": [
    "from sklearn.model_selection import RandomizedSearchCV, GridSearchCV\n",
    "from xgboost import XGBClassifier"
   ]
  },
  {
   "cell_type": "code",
   "execution_count": 17,
   "metadata": {},
   "outputs": [],
   "source": [
    "train_csv = pd.read_csv(\"/home/federico/Git/datos-tp2-2c2020/data/friofrio/Train_TP2_Datos_2020-2C.csv\",\n",
    "        parse_dates = ['Account_Created_Date', 'Opportunity_Created_Date',\n",
    "                       'Planned_Delivery_Start_Date', 'Planned_Delivery_End_Date',\n",
    "                       'Quote_Expiry_Date', 'Last_Modified_Date','Last_Activity' ])\n",
    "# Limpio registros con muchos datos faltantes o inutiles\n",
    "train_csv = train_csv.drop(columns= ['Prod_Category_A', 'Quote_Type',\n",
    "                                 'Product_Category_B', 'Delivery_Terms',\n",
    "                                 'Actual_Delivery_Date', 'Submitted_for_Approval',\n",
    "                                 'Last_Activity','Price', 'Currency','Brand', \n",
    "                                 'Opportunity_Type', 'Size','Product_Type',\n",
    "                                 'Account_Type', 'ASP_Currency', 'ASP_(converted)_Currency',\n",
    "                                 'Total_Amount_Currency', 'Account_Name',\n",
    "                                 'Opportunity_Name','Total_Taxable_Amount_Currency',\n",
    "                                 'Product_Family', 'Product_Name'])"
   ]
  },
  {
   "cell_type": "code",
   "execution_count": 18,
   "metadata": {},
   "outputs": [],
   "source": [
    "train_csv = train_csv.loc[(train_csv['Stage'] == 'Closed Won') | (train_csv['Stage'] == 'Closed Lost')]\n",
    "train_csv['Oportunidad ganada'] = (train_csv['Stage'] == 'Closed Won').astype(int)"
   ]
  },
  {
   "cell_type": "code",
   "execution_count": 19,
   "metadata": {},
   "outputs": [],
   "source": [
    "train_csv_numerics = train_csv.select_dtypes(include = np.number).fillna(0)"
   ]
  },
  {
   "cell_type": "code",
   "execution_count": 20,
   "metadata": {},
   "outputs": [],
   "source": [
    "X = train_csv_numerics.drop(columns = 'Oportunidad ganada').fillna(0)\n",
    "\n",
    "y = train_csv_numerics[['Oportunidad ganada']].fillna(0)\n",
    "\n",
    "X_train, X_test, y_train, y_test = train_test_split(X, y, test_size = 0.2, random_state = 123)"
   ]
  },
  {
   "cell_type": "code",
   "execution_count": 115,
   "metadata": {},
   "outputs": [],
   "source": [
    "xgbr = xgb.XGBRegressor(\n",
    "    colsample_bytree = 0.9,\n",
    "    learning_rate = 0.1,\n",
    "    max_depth = 8,\n",
    "    alpha = 0.5,\n",
    "    n_estimators = 28)\n",
    "\n",
    "xgbr.fit(X_train, y_train)\n",
    "\n",
    "preds = xgbr.predict(X_test)\n",
    "\n",
    "log_loss(y_test, preds, eps=1e-15, normalize=True, sample_weight=None, labels=None)"
   ]
  },
  {
   "cell_type": "code",
   "execution_count": null,
   "metadata": {},
   "outputs": [],
   "source": []
  },
  {
   "cell_type": "code",
   "execution_count": 117,
   "metadata": {},
   "outputs": [],
   "source": [
    "train_csv_lucas = pd.read_csv('Features_Train_Lucas.csv')"
   ]
  },
  {
   "cell_type": "code",
   "execution_count": 118,
   "metadata": {},
   "outputs": [
    {
     "data": {
      "text/plain": [
       "Unnamed: 0                         int64\n",
       "ID                                 int64\n",
       "Region_ganados                     int64\n",
       "Region_count                       int64\n",
       "Region_mean                      float64\n",
       "Territory_ganados                  int64\n",
       "Territory_count                    int64\n",
       "Territory_mean                   float64\n",
       "Product_Name_ganados               int64\n",
       "Product_Name_count                 int64\n",
       "Product_Name_mean                float64\n",
       "Account_Owner_ganados              int64\n",
       "Account_Owner_count                int64\n",
       "Account_Owner_mean               float64\n",
       "Bureaucratic_Code_ganados          int64\n",
       "Bureaucratic_Code_count            int64\n",
       "Bureaucratic_Code_mean           float64\n",
       "Billing_Country_ganados            int64\n",
       "Billing_Country_count              int64\n",
       "Billing_Country_mean             float64\n",
       "Account_Name_ganados               int64\n",
       "Account_Name_count                 int64\n",
       "Account_Name_mean                float64\n",
       "Opportunity_Owner_ganados          int64\n",
       "Opportunity_Owner_count            int64\n",
       "Opportunity_Owner_mean           float64\n",
       "Quote_Type_ganados                 int64\n",
       "Quote_Type_count                   int64\n",
       "Quote_Type_mean                  float64\n",
       "Delivery_Terms_ganados             int64\n",
       "                                  ...   \n",
       "ASP_(converted)_sum              float64\n",
       "ASP_(converted)_mean             float64\n",
       "ASP_(converted)_median           float64\n",
       "ASP_(converted)_std              float64\n",
       "ASP_(converted)_max              float64\n",
       "ASP_(converted)_min              float64\n",
       "TRF_sum                            int64\n",
       "TRF_mean                         float64\n",
       "TRF_median                       float64\n",
       "TRF_std                          float64\n",
       "TRF_max                            int64\n",
       "TRF_min                            int64\n",
       "Total_Amount_sum                 float64\n",
       "Total_Amount_mean                float64\n",
       "Total_Amount_median              float64\n",
       "Total_Amount_std                 float64\n",
       "Total_Amount_max                 float64\n",
       "Total_Amount_min                 float64\n",
       "Total_Taxable_Amount_sum         float64\n",
       "Total_Taxable_Amount_mean        float64\n",
       "Total_Taxable_Amount_median      float64\n",
       "Total_Taxable_Amount_std         float64\n",
       "Total_Taxable_Amount_max         float64\n",
       "Total_Taxable_Amount_min         float64\n",
       "Total_Amount_converted_sum       float64\n",
       "Total_Amount_converted_mean      float64\n",
       "Total_Amount_converted_median    float64\n",
       "Total_Amount_converted_std       float64\n",
       "Total_Amount_converted_max       float64\n",
       "Total_Amount_converted_min       float64\n",
       "Length: 314, dtype: object"
      ]
     },
     "execution_count": 118,
     "metadata": {},
     "output_type": "execute_result"
    }
   ],
   "source": [
    "train_csv_lucas = train_csv_lucas.select_dtypes(include = np.number).fillna(0)\n",
    "train_csv_lucas.dtypes"
   ]
  },
  {
   "cell_type": "code",
   "execution_count": 119,
   "metadata": {},
   "outputs": [],
   "source": [
    "train_csv_numerics = train_csv_numerics.replace([np.inf, -np.inf], np.nan)\n",
    "train_csv_numerics = train_csv_numerics.join(train_csv_lucas, on = 'ID', lsuffix = 'ID', rsuffix = 'ID').fillna(0)\n",
    "train_csv_numerics = train_csv_numerics.astype('float64')\n",
    "\n",
    "train_csv_numerics = train_csv_numerics.replace([np.inf, -np.inf], np.nan)\n",
    "np.isinf(train_csv_numerics).values.sum()"
   ]
  },
  {
   "cell_type": "code",
   "execution_count": 122,
   "metadata": {},
   "outputs": [],
   "source": [
    "X = train_csv_numerics.drop(columns = 'Oportunidad ganada').fillna(0)\n",
    "\n",
    "y = train_csv_numerics[['Oportunidad ganada']].fillna(0)\n",
    "\n",
    "X_train, X_test, y_train, y_test = train_test_split(X, y, test_size = 0.2, random_state = 123)"
   ]
  },
  {
   "cell_type": "code",
   "execution_count": 123,
   "metadata": {},
   "outputs": [
    {
     "data": {
      "text/html": [
       "<div>\n",
       "<style scoped>\n",
       "    .dataframe tbody tr th:only-of-type {\n",
       "        vertical-align: middle;\n",
       "    }\n",
       "\n",
       "    .dataframe tbody tr th {\n",
       "        vertical-align: top;\n",
       "    }\n",
       "\n",
       "    .dataframe thead th {\n",
       "        text-align: right;\n",
       "    }\n",
       "</style>\n",
       "<table border=\"1\" class=\"dataframe\">\n",
       "  <thead>\n",
       "    <tr style=\"text-align: right;\">\n",
       "      <th></th>\n",
       "      <th>IDID</th>\n",
       "      <th>Pricing, Delivery_Terms_Quote_Appr</th>\n",
       "      <th>Pricing, Delivery_Terms_Approved</th>\n",
       "      <th>Bureaucratic_Code_0_Approval</th>\n",
       "      <th>Bureaucratic_Code_0_Approved</th>\n",
       "      <th>Opportunity_ID</th>\n",
       "      <th>ASP</th>\n",
       "      <th>ASP_(converted)</th>\n",
       "      <th>Delivery_Year</th>\n",
       "      <th>TRF</th>\n",
       "      <th>...</th>\n",
       "      <th>Total_Taxable_Amount_median</th>\n",
       "      <th>Total_Taxable_Amount_std</th>\n",
       "      <th>Total_Taxable_Amount_max</th>\n",
       "      <th>Total_Taxable_Amount_min</th>\n",
       "      <th>Total_Amount_converted_sum</th>\n",
       "      <th>Total_Amount_converted_mean</th>\n",
       "      <th>Total_Amount_converted_median</th>\n",
       "      <th>Total_Amount_converted_std</th>\n",
       "      <th>Total_Amount_converted_max</th>\n",
       "      <th>Total_Amount_converted_min</th>\n",
       "    </tr>\n",
       "  </thead>\n",
       "  <tbody>\n",
       "    <tr>\n",
       "      <th>9799</th>\n",
       "      <td>22022.0</td>\n",
       "      <td>1.0</td>\n",
       "      <td>1.0</td>\n",
       "      <td>0.0</td>\n",
       "      <td>0.0</td>\n",
       "      <td>6206.0</td>\n",
       "      <td>0.390</td>\n",
       "      <td>0.390</td>\n",
       "      <td>2017.0</td>\n",
       "      <td>0.0</td>\n",
       "      <td>...</td>\n",
       "      <td>0.0</td>\n",
       "      <td>0.0</td>\n",
       "      <td>0.0</td>\n",
       "      <td>0.0</td>\n",
       "      <td>0.0</td>\n",
       "      <td>0.0</td>\n",
       "      <td>0.0</td>\n",
       "      <td>0.0</td>\n",
       "      <td>0.0</td>\n",
       "      <td>0.0</td>\n",
       "    </tr>\n",
       "    <tr>\n",
       "      <th>10710</th>\n",
       "      <td>26482.0</td>\n",
       "      <td>1.0</td>\n",
       "      <td>1.0</td>\n",
       "      <td>0.0</td>\n",
       "      <td>0.0</td>\n",
       "      <td>6637.0</td>\n",
       "      <td>0.000</td>\n",
       "      <td>0.000</td>\n",
       "      <td>2017.0</td>\n",
       "      <td>0.0</td>\n",
       "      <td>...</td>\n",
       "      <td>0.0</td>\n",
       "      <td>0.0</td>\n",
       "      <td>0.0</td>\n",
       "      <td>0.0</td>\n",
       "      <td>0.0</td>\n",
       "      <td>0.0</td>\n",
       "      <td>0.0</td>\n",
       "      <td>0.0</td>\n",
       "      <td>0.0</td>\n",
       "      <td>0.0</td>\n",
       "    </tr>\n",
       "    <tr>\n",
       "      <th>5593</th>\n",
       "      <td>27979.0</td>\n",
       "      <td>1.0</td>\n",
       "      <td>0.0</td>\n",
       "      <td>1.0</td>\n",
       "      <td>0.0</td>\n",
       "      <td>3418.0</td>\n",
       "      <td>0.365</td>\n",
       "      <td>0.365</td>\n",
       "      <td>2017.0</td>\n",
       "      <td>21.0</td>\n",
       "      <td>...</td>\n",
       "      <td>0.0</td>\n",
       "      <td>0.0</td>\n",
       "      <td>0.0</td>\n",
       "      <td>0.0</td>\n",
       "      <td>0.0</td>\n",
       "      <td>0.0</td>\n",
       "      <td>0.0</td>\n",
       "      <td>0.0</td>\n",
       "      <td>0.0</td>\n",
       "      <td>0.0</td>\n",
       "    </tr>\n",
       "    <tr>\n",
       "      <th>16368</th>\n",
       "      <td>26159.0</td>\n",
       "      <td>1.0</td>\n",
       "      <td>0.0</td>\n",
       "      <td>1.0</td>\n",
       "      <td>0.0</td>\n",
       "      <td>12531.0</td>\n",
       "      <td>0.000</td>\n",
       "      <td>0.000</td>\n",
       "      <td>2016.0</td>\n",
       "      <td>0.0</td>\n",
       "      <td>...</td>\n",
       "      <td>0.0</td>\n",
       "      <td>0.0</td>\n",
       "      <td>0.0</td>\n",
       "      <td>0.0</td>\n",
       "      <td>0.0</td>\n",
       "      <td>0.0</td>\n",
       "      <td>0.0</td>\n",
       "      <td>0.0</td>\n",
       "      <td>0.0</td>\n",
       "      <td>0.0</td>\n",
       "    </tr>\n",
       "    <tr>\n",
       "      <th>4725</th>\n",
       "      <td>24447.0</td>\n",
       "      <td>1.0</td>\n",
       "      <td>1.0</td>\n",
       "      <td>0.0</td>\n",
       "      <td>0.0</td>\n",
       "      <td>2787.0</td>\n",
       "      <td>0.000</td>\n",
       "      <td>0.000</td>\n",
       "      <td>2016.0</td>\n",
       "      <td>0.0</td>\n",
       "      <td>...</td>\n",
       "      <td>0.0</td>\n",
       "      <td>0.0</td>\n",
       "      <td>0.0</td>\n",
       "      <td>0.0</td>\n",
       "      <td>0.0</td>\n",
       "      <td>0.0</td>\n",
       "      <td>0.0</td>\n",
       "      <td>0.0</td>\n",
       "      <td>0.0</td>\n",
       "      <td>0.0</td>\n",
       "    </tr>\n",
       "  </tbody>\n",
       "</table>\n",
       "<p>5 rows × 326 columns</p>\n",
       "</div>"
      ],
      "text/plain": [
       "          IDID  Pricing, Delivery_Terms_Quote_Appr  \\\n",
       "9799   22022.0                                 1.0   \n",
       "10710  26482.0                                 1.0   \n",
       "5593   27979.0                                 1.0   \n",
       "16368  26159.0                                 1.0   \n",
       "4725   24447.0                                 1.0   \n",
       "\n",
       "       Pricing, Delivery_Terms_Approved  Bureaucratic_Code_0_Approval  \\\n",
       "9799                                1.0                           0.0   \n",
       "10710                               1.0                           0.0   \n",
       "5593                                0.0                           1.0   \n",
       "16368                               0.0                           1.0   \n",
       "4725                                1.0                           0.0   \n",
       "\n",
       "       Bureaucratic_Code_0_Approved  Opportunity_ID    ASP  ASP_(converted)  \\\n",
       "9799                            0.0          6206.0  0.390            0.390   \n",
       "10710                           0.0          6637.0  0.000            0.000   \n",
       "5593                            0.0          3418.0  0.365            0.365   \n",
       "16368                           0.0         12531.0  0.000            0.000   \n",
       "4725                            0.0          2787.0  0.000            0.000   \n",
       "\n",
       "       Delivery_Year   TRF             ...              \\\n",
       "9799          2017.0   0.0             ...               \n",
       "10710         2017.0   0.0             ...               \n",
       "5593          2017.0  21.0             ...               \n",
       "16368         2016.0   0.0             ...               \n",
       "4725          2016.0   0.0             ...               \n",
       "\n",
       "       Total_Taxable_Amount_median  Total_Taxable_Amount_std  \\\n",
       "9799                           0.0                       0.0   \n",
       "10710                          0.0                       0.0   \n",
       "5593                           0.0                       0.0   \n",
       "16368                          0.0                       0.0   \n",
       "4725                           0.0                       0.0   \n",
       "\n",
       "       Total_Taxable_Amount_max  Total_Taxable_Amount_min  \\\n",
       "9799                        0.0                       0.0   \n",
       "10710                       0.0                       0.0   \n",
       "5593                        0.0                       0.0   \n",
       "16368                       0.0                       0.0   \n",
       "4725                        0.0                       0.0   \n",
       "\n",
       "       Total_Amount_converted_sum  Total_Amount_converted_mean  \\\n",
       "9799                          0.0                          0.0   \n",
       "10710                         0.0                          0.0   \n",
       "5593                          0.0                          0.0   \n",
       "16368                         0.0                          0.0   \n",
       "4725                          0.0                          0.0   \n",
       "\n",
       "       Total_Amount_converted_median  Total_Amount_converted_std  \\\n",
       "9799                             0.0                         0.0   \n",
       "10710                            0.0                         0.0   \n",
       "5593                             0.0                         0.0   \n",
       "16368                            0.0                         0.0   \n",
       "4725                             0.0                         0.0   \n",
       "\n",
       "       Total_Amount_converted_max  Total_Amount_converted_min  \n",
       "9799                          0.0                         0.0  \n",
       "10710                         0.0                         0.0  \n",
       "5593                          0.0                         0.0  \n",
       "16368                         0.0                         0.0  \n",
       "4725                          0.0                         0.0  \n",
       "\n",
       "[5 rows x 326 columns]"
      ]
     },
     "execution_count": 123,
     "metadata": {},
     "output_type": "execute_result"
    }
   ],
   "source": [
    "X_train.head()"
   ]
  },
  {
   "cell_type": "code",
   "execution_count": 129,
   "metadata": {},
   "outputs": [],
   "source": [
    "X_train = X_train.loc[:,~X_train.columns.duplicated()]\n",
    "X_test = X_test.loc[:,~X_test.columns.duplicated()]"
   ]
  },
  {
   "cell_type": "code",
   "execution_count": 136,
   "metadata": {},
   "outputs": [
    {
     "data": {
      "text/plain": [
       "0.3775572030180952"
      ]
     },
     "execution_count": 136,
     "metadata": {},
     "output_type": "execute_result"
    }
   ],
   "source": [
    "xgbr = xgb.XGBRegressor(\n",
    "    colsample_bytree = 0.9,\n",
    "    learning_rate = 0.1,\n",
    "    max_depth = 8,\n",
    "    alpha = 0.5,\n",
    "    n_estimators = 25)\n",
    "\n",
    "xgbr.fit(X_train, y_train)\n",
    "\n",
    "preds = xgbr.predict(X_test)\n",
    "\n",
    "log_loss(y_test, preds, eps=1e-15, normalize=True, sample_weight=None, labels=None)"
   ]
  },
  {
   "cell_type": "code",
   "execution_count": 143,
   "metadata": {},
   "outputs": [],
   "source": [
    "test_csv = pd.read_csv(\"/home/federico/Git/datos-tp2-2c2020/data/friofrio/Test_TP2_Datos_2020-2C.csv\",\n",
    "        parse_dates = ['Account_Created_Date', 'Opportunity_Created_Date',\n",
    "                       'Planned_Delivery_Start_Date', 'Planned_Delivery_End_Date',\n",
    "                       'Quote_Expiry_Date', 'Last_Modified_Date','Last_Activity' ])\n",
    "# Limpio registros con muchos datos faltantes o inutiles\n",
    "test_csv = test_csv.drop(columns= ['Prod_Category_A', 'Quote_Type',\n",
    "                                 'Product_Category_B', 'Delivery_Terms',\n",
    "                                 'Actual_Delivery_Date', 'Submitted_for_Approval',\n",
    "                                 'Last_Activity','Price', 'Currency','Brand', \n",
    "                                 'Opportunity_Type', 'Size','Product_Type',\n",
    "                                 'Account_Type', 'ASP_Currency', 'ASP_(converted)_Currency',\n",
    "                                 'Total_Amount_Currency', 'Account_Name',\n",
    "                                 'Opportunity_Name','Total_Taxable_Amount_Currency',\n",
    "                                 'Product_Family', 'Product_Name'])"
   ]
  },
  {
   "cell_type": "code",
   "execution_count": 144,
   "metadata": {},
   "outputs": [],
   "source": [
    "test = test_csv.select_dtypes(include = np.number).fillna(0)\n",
    "np.isinf(test).values.sum()\n",
    "\n",
    "test = test.replace([np.inf, -np.inf], np.nan)\n",
    "test = test.join(train_csv_lucas, on = 'ID', lsuffix = 'ID', rsuffix = 'ID').fillna(0)\n",
    "test = test.astype('float64')\n",
    "\n",
    "test = test.replace([np.inf, -np.inf], np.nan)\n",
    "np.isinf(test).values.sum()\n",
    "\n",
    "X_test_to_submit = test.select_dtypes(include = np.number).fillna(0)\n",
    "\n",
    "X_test_to_submit = X_test_to_submit.loc[:,~X_test_to_submit.columns.duplicated()]"
   ]
  },
  {
   "cell_type": "code",
   "execution_count": 145,
   "metadata": {},
   "outputs": [],
   "source": [
    "preds_to_submit = (xgbr.predict(X_test_to_submit))"
   ]
  },
  {
   "cell_type": "code",
   "execution_count": 146,
   "metadata": {},
   "outputs": [],
   "source": [
    "test_csv['Target'] = preds_to_submit"
   ]
  },
  {
   "cell_type": "code",
   "execution_count": 147,
   "metadata": {},
   "outputs": [],
   "source": [
    "result = test_csv[['Opportunity_ID','Target']].groupby(['Opportunity_ID']).mean()\n",
    "result.reset_index(inplace=True)"
   ]
  },
  {
   "cell_type": "code",
   "execution_count": 148,
   "metadata": {},
   "outputs": [
    {
     "data": {
      "text/plain": [
       "Opportunity_ID      int64\n",
       "Target            float32\n",
       "dtype: object"
      ]
     },
     "execution_count": 148,
     "metadata": {},
     "output_type": "execute_result"
    }
   ],
   "source": [
    "result['Opportunity_ID'] = result['Opportunity_ID'].astype(int)\n",
    "result.dtypes"
   ]
  },
  {
   "cell_type": "code",
   "execution_count": 149,
   "metadata": {},
   "outputs": [],
   "source": [
    "result.to_csv('predicciones.csv', index = False)"
   ]
  },
  {
   "cell_type": "code",
   "execution_count": null,
   "metadata": {},
   "outputs": [],
   "source": []
  }
 ],
 "metadata": {
  "kernelspec": {
   "display_name": "Python 3",
   "language": "python",
   "name": "python3"
  },
  "language_info": {
   "codemirror_mode": {
    "name": "ipython",
    "version": 2
   },
   "file_extension": ".py",
   "mimetype": "text/x-python",
   "name": "python",
   "nbconvert_exporter": "python",
   "pygments_lexer": "ipython2",
   "version": "2.7.15"
  }
 },
 "nbformat": 4,
 "nbformat_minor": 2
}
